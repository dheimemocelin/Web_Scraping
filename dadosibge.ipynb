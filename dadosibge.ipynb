{
 "cells": [
  {
   "cell_type": "code",
   "execution_count": 1,
   "metadata": {},
   "outputs": [],
   "source": [
    "#Bibliotecas\n",
    "import requests\n",
    "from bs4 import BeautifulSoup\n",
    "import pandas as pd"
   ]
  },
  {
   "cell_type": "code",
   "execution_count": 3,
   "metadata": {},
   "outputs": [],
   "source": [
    "#Função que extrai os dados e salva em um dicionario\n",
    "from bs4.element import soupsieve\n",
    "def scraping_uf(uf: str):\n",
    "    uf_url = f'https://www.ibge.gov.br/cidades-e-estados/{uf}.html'\n",
    "    brouwsers = {'User-Agent': \"Mozilla/5.0 (Windows NT 10.0; Win64; x64) AppleWebKit/537.36 \\(KHTML, like Gecko) Chrome / 86.0.4240.198Safari / 537.36\"}\n",
    "    page = requests.get(uf_url, headers=brouwsers)\n",
    "\n",
    "    soup = BeautifulSoup(page.content, 'html.parser')\n",
    "    indicadores = soup.select('.indicador')\n",
    "\n",
    "    uf_dict = {\n",
    "        dado.select('.ind-label')[0].text: dado.select('.ind-value')[0].text\n",
    "        for dado in indicadores\n",
    "    }\n",
    "    \n",
    "    return uf_dict"
   ]
  },
  {
   "cell_type": "code",
   "execution_count": 4,
   "metadata": {},
   "outputs": [],
   "source": [
    "estado = scraping_uf('sp')"
   ]
  },
  {
   "cell_type": "code",
   "execution_count": 5,
   "metadata": {},
   "outputs": [
    {
     "data": {
      "text/plain": [
       "{'Governador': 'TARCISIO GOMES DE FREITAS\\xa0\\xa0\\xa0[2023]',\n",
       " 'Capital': 'São Paulo\\xa0\\xa0\\xa0[2010]',\n",
       " 'Gentílico': 'paulista',\n",
       " 'Área Territorial': '248.219,485 km²\\xa0\\xa0\\xa0[2022]',\n",
       " 'População estimada': '46.649.132 pessoas\\xa0\\xa0\\xa0[2021]',\n",
       " 'Densidade demográfica': '166,25 hab/km²\\xa0\\xa0\\xa0[2010]',\n",
       " 'Matrículas no ensino fundamental': '5.396.803 matrículas\\xa0\\xa0\\xa0[2021]',\n",
       " 'IDH Índice de desenvolvimento humano': '0,783\\xa0\\xa0\\xa0[2010]',\n",
       " 'Receitas realizadas': '232.822.496,57 R$ (×1000)\\xa0\\xa0\\xa0[2017]',\n",
       " 'Despesas empenhadas': '231.982.243,69 R$ (×1000)\\xa0\\xa0\\xa0[2017]',\n",
       " 'Rendimento mensal domiciliar per capita': '2.148 R$\\xa0\\xa0\\xa0[2022]',\n",
       " 'Total de veículos': '32.293.191 veículos\\xa0\\xa0\\xa0[2022]'}"
      ]
     },
     "execution_count": 5,
     "metadata": {},
     "output_type": "execute_result"
    }
   ],
   "source": [
    "estado"
   ]
  },
  {
   "cell_type": "code",
   "execution_count": 6,
   "metadata": {},
   "outputs": [
    {
     "data": {
      "text/plain": [
       "{'Governador': 'TARCISIO GOMES DE FREITAS',\n",
       " 'Capital': 'São Paulo',\n",
       " 'Gentílico': 'paulista',\n",
       " 'Área Territorial': '248.219,485 km²',\n",
       " 'População estimada': '46.649.132 pessoas',\n",
       " 'Densidade demográfica': '166,25 hab/km²',\n",
       " 'Matrículas no ensino fundamental': '5.396.803 matrículas',\n",
       " 'IDH Índice de desenvolvimento humano': '0,783',\n",
       " 'Receitas realizadas': '232.822.496,57 R$ (×1000)',\n",
       " 'Despesas empenhadas': '231.982.243,69 R$ (×1000)',\n",
       " 'Rendimento mensal domiciliar per capita': '2.148 R$',\n",
       " 'Total de veículos': '32.293.191 veículos'}"
      ]
     },
     "execution_count": 6,
     "metadata": {},
     "output_type": "execute_result"
    }
   ],
   "source": [
    "#Função para limpar alguns dados\n",
    "for indicador in estado:\n",
    "    if ']' in estado[indicador]:\n",
    "        estado[indicador] = estado[indicador].split(']')[0][:-8]\n",
    "    else:\n",
    "        estado[indicador] = estado[indicador]\n",
    "estado"
   ]
  },
  {
   "cell_type": "code",
   "execution_count": 7,
   "metadata": {},
   "outputs": [],
   "source": [
    "#Criando um dataframe e salvando os dados\n",
    "df = pd.DataFrame(estado.values(), index=estado.keys())"
   ]
  },
  {
   "cell_type": "code",
   "execution_count": 8,
   "metadata": {},
   "outputs": [
    {
     "data": {
      "text/html": [
       "<div>\n",
       "<style scoped>\n",
       "    .dataframe tbody tr th:only-of-type {\n",
       "        vertical-align: middle;\n",
       "    }\n",
       "\n",
       "    .dataframe tbody tr th {\n",
       "        vertical-align: top;\n",
       "    }\n",
       "\n",
       "    .dataframe thead th {\n",
       "        text-align: right;\n",
       "    }\n",
       "</style>\n",
       "<table border=\"1\" class=\"dataframe\">\n",
       "  <thead>\n",
       "    <tr style=\"text-align: right;\">\n",
       "      <th></th>\n",
       "      <th>0</th>\n",
       "    </tr>\n",
       "  </thead>\n",
       "  <tbody>\n",
       "    <tr>\n",
       "      <th>Governador</th>\n",
       "      <td>TARCISIO GOMES DE FREITAS</td>\n",
       "    </tr>\n",
       "    <tr>\n",
       "      <th>Capital</th>\n",
       "      <td>São Paulo</td>\n",
       "    </tr>\n",
       "    <tr>\n",
       "      <th>Gentílico</th>\n",
       "      <td>paulista</td>\n",
       "    </tr>\n",
       "    <tr>\n",
       "      <th>Área Territorial</th>\n",
       "      <td>248.219,485 km²</td>\n",
       "    </tr>\n",
       "    <tr>\n",
       "      <th>População estimada</th>\n",
       "      <td>46.649.132 pessoas</td>\n",
       "    </tr>\n",
       "    <tr>\n",
       "      <th>Densidade demográfica</th>\n",
       "      <td>166,25 hab/km²</td>\n",
       "    </tr>\n",
       "    <tr>\n",
       "      <th>Matrículas no ensino fundamental</th>\n",
       "      <td>5.396.803 matrículas</td>\n",
       "    </tr>\n",
       "    <tr>\n",
       "      <th>IDH Índice de desenvolvimento humano</th>\n",
       "      <td>0,783</td>\n",
       "    </tr>\n",
       "    <tr>\n",
       "      <th>Receitas realizadas</th>\n",
       "      <td>232.822.496,57 R$ (×1000)</td>\n",
       "    </tr>\n",
       "    <tr>\n",
       "      <th>Despesas empenhadas</th>\n",
       "      <td>231.982.243,69 R$ (×1000)</td>\n",
       "    </tr>\n",
       "    <tr>\n",
       "      <th>Rendimento mensal domiciliar per capita</th>\n",
       "      <td>2.148 R$</td>\n",
       "    </tr>\n",
       "    <tr>\n",
       "      <th>Total de veículos</th>\n",
       "      <td>32.293.191 veículos</td>\n",
       "    </tr>\n",
       "  </tbody>\n",
       "</table>\n",
       "</div>"
      ],
      "text/plain": [
       "                                                                 0\n",
       "Governador                               TARCISIO GOMES DE FREITAS\n",
       "Capital                                                  São Paulo\n",
       "Gentílico                                                 paulista\n",
       "Área Territorial                                   248.219,485 km²\n",
       "População estimada                              46.649.132 pessoas\n",
       "Densidade demográfica                               166,25 hab/km²\n",
       "Matrículas no ensino fundamental             5.396.803 matrículas\n",
       "IDH Índice de desenvolvimento humano                        0,783\n",
       "Receitas realizadas                      232.822.496,57 R$ (×1000)\n",
       "Despesas empenhadas                      231.982.243,69 R$ (×1000)\n",
       "Rendimento mensal domiciliar per capita                   2.148 R$\n",
       "Total de veículos                              32.293.191 veículos"
      ]
     },
     "execution_count": 8,
     "metadata": {},
     "output_type": "execute_result"
    }
   ],
   "source": [
    "df"
   ]
  }
 ],
 "metadata": {
  "kernelspec": {
   "display_name": "base",
   "language": "python",
   "name": "python3"
  },
  "language_info": {
   "codemirror_mode": {
    "name": "ipython",
    "version": 3
   },
   "file_extension": ".py",
   "mimetype": "text/x-python",
   "name": "python",
   "nbconvert_exporter": "python",
   "pygments_lexer": "ipython3",
   "version": "3.9.13"
  },
  "orig_nbformat": 4
 },
 "nbformat": 4,
 "nbformat_minor": 2
}
